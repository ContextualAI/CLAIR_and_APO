{
 "cells": [
  {
   "cell_type": "markdown",
   "metadata": {},
   "source": [
    "# Contrastive Learning from AI Revisions (CLAIR)\n",
    "This notebook accompanies the \"Anchored Preference Optimization and Contrastive Revisions: Addressing Underspecification in Alignment\" paper.\n",
    "\n",
    "In this notebook, we will create preference pairs for alignment through contrastive revisions. We use an LLM behind API for the revision process, but we've cached the results so you can run the notebook without API key."
   ]
  },
  {
   "cell_type": "markdown",
   "metadata": {},
   "source": [
    "![alt text](images/github-clair-notebook.png \"Contrastive Learning from AI Revisions\")"
   ]
  },
  {
   "cell_type": "code",
   "execution_count": 1,
   "metadata": {},
   "outputs": [
    {
     "name": "stderr",
     "output_type": "stream",
     "text": [
      "/env/lib/conda/trl-karel/lib/python3.10/site-packages/tqdm/auto.py:21: TqdmWarning: IProgress not found. Please update jupyter and ipywidgets. See https://ipywidgets.readthedocs.io/en/stable/user_install.html\n",
      "  from .autonotebook import tqdm as notebook_tqdm\n"
     ]
    }
   ],
   "source": [
    "import requests\n",
    "from joblib import Memory\n",
    "import datasets\n",
    "import pandas as pd"
   ]
  },
  {
   "cell_type": "code",
   "execution_count": 2,
   "metadata": {},
   "outputs": [],
   "source": [
    "# Set your API Key. If unset, will use caching.\n",
    "API_KEY = 'your-openai-api-key'\n",
    "\n",
    "# Change model and kwargs. Only tested on this exact model.\n",
    "model_name = 'gpt-4-0125-preview'\n",
    "model_url = 'https://api.openai.com/v1/chat/completions'\n",
    "model_kwargs = {\n",
    "    'max_tokens': 4096,\n",
    "    'temperature': .7\n",
    "}"
   ]
  },
  {
   "cell_type": "markdown",
   "metadata": {},
   "source": [
    "Helper functions that can be ignored for now:"
   ]
  },
  {
   "cell_type": "code",
   "execution_count": 3,
   "metadata": {},
   "outputs": [],
   "source": [
    "# Setup the cache directory\n",
    "memory = Memory(\"./cache\", verbose=0)\n",
    "\n",
    "# Get joblib cache working in notebooks\n",
    "# source: https://stackoverflow.com/questions/75202475/joblib-persistence-across-sessions-machines\n",
    "def cache(mem, module, **mem_kwargs):\n",
    "    def cache_(f):\n",
    "        f.__module__ = module\n",
    "        f.__qualname__ = f.__name__\n",
    "        return mem.cache(f, **mem_kwargs)\n",
    "    return cache_\n",
    "\n",
    "# extract existing preferences from ultrafeedback\n",
    "def get_preferences_from_ultrafeedback(dataset):\n",
    "    instruction = []\n",
    "    chosen = []\n",
    "    rejected = []\n",
    "\n",
    "    for _, row in dataset.iterrows():\n",
    "        response = [x[\"response\"] for x in row[\"completions\"]]\n",
    "        score = [x[\"overall_score\"] for x in row[\"completions\"]]\n",
    "\n",
    "        if len(score):\n",
    "            chosen_index = score.index(max(score))\n",
    "            rejected_index = score.index(min(score))\n",
    "\n",
    "            instruction.append(row[\"instruction\"])\n",
    "            chosen.append(response[chosen_index])\n",
    "            rejected.append(response[rejected_index])\n",
    "\n",
    "    return pd.DataFrame.from_dict({\n",
    "        \"text\": instruction,\n",
    "        \"rejected\": rejected,\n",
    "        \"chosen\": chosen  \n",
    "    })\n",
    "\n",
    "# Visualize a preference triple\n",
    "def visualize_triple(triple: dict):\n",
    "    print('---TEXT (first 400 characters):\\n')\n",
    "    print(triple['text'][:400])\n",
    "    print('---REJECTED (first 400 characters):\\n')\n",
    "    print(triple['rejected'][:400])\n",
    "    print('---CHOSEN (first 400 characters):\\n')\n",
    "    print(triple['chosen'][:400])\n",
    "    if 'rational' in triple:\n",
    "        print('---REVISION RATIONAL (first 400 characters):\\n')\n",
    "        print(triple['rational'][:400])\n",
    "\n",
    "\n",
    "@cache(memory, \"CLAIR_preferences\")\n",
    "def query_chat_model(user_prompt, system_prompt='', url='https://api.openai.com/v1/chat/completions', model_name='gpt-4-0125-preview'):\n",
    "    print(f\"Querying {model_name} API at {url}...\")\n",
    "    headers = {\n",
    "        \"Content-Type\": \"application/json\",\n",
    "        \"Authorization\": f\"Bearer {API_KEY}\"\n",
    "    }\n",
    "    data = {\n",
    "        \"model\": model_name,\n",
    "        \"messages\": [\n",
    "            {\"role\": \"system\", \"content\": system_prompt},\n",
    "            {\"role\": \"user\", \"content\": user_prompt}\n",
    "        ],\n",
    "        **model_kwargs\n",
    "    }\n",
    "    response = requests.post(url, headers=headers, json=data)\n",
    "    \n",
    "    if response.status_code == 200:\n",
    "        result = response.json()\n",
    "        return result\n",
    "    else:\n",
    "        raise Exception(f\"API request failed with status code {response.status_code}: {response.text}\")\n",
    "\n",
    "# Parse revisions\n",
    "def get_revision_from_response(response):\n",
    "    raw_completion = response['choices'][0]['message']['content']\n",
    "\n",
    "    if \"**Corrected Student Solution:**\" in raw_completion:\n",
    "        splits = raw_completion.split(\"**Corrected Student Solution:**\")\n",
    "    elif \"{corrected_student_solution}:\" in raw_completion:\n",
    "        splits = raw_completion.split(\"{corrected_student_solution}:\")\n",
    "    elif \"{corrected_student_solution}\" in raw_completion:\n",
    "        splits = raw_completion.split(\"{corrected_student_solution}\")\n",
    "    elif \"**Worsened Student Solution:**\" in raw_completion:\n",
    "        splits = raw_completion.split(\"**Worsened Student Solution:**\")\n",
    "    elif \"{worsened_student_solution}:\" in raw_completion:\n",
    "        splits = raw_completion.split(\"{worsened_student_solution}:\")\n",
    "    elif \"{worsened_student_solution}\" in raw_completion:\n",
    "        splits = raw_completion.split(\"{worsened_student_solution}\")\n",
    "    \n",
    "    if len(splits) >= 2: \n",
    "        edit = splits[1]\n",
    "        edit = edit.strip('\\n\\n').strip()\n",
    "\n",
    "        rational = splits[0]\n",
    "        if '{teacher_reasoning}' in rational:\n",
    "            rational = rational.split('{teacher_reasoning}')[1].strip(':').strip()\n",
    "        rational = rational.strip('\\n\\n').strip()\n",
    "    else:\n",
    "        Exception('Failed to parse response')\n",
    "    return edit, rational\n",
    "\n"
   ]
  },
  {
   "cell_type": "markdown",
   "metadata": {},
   "source": [
    "## Load data\n",
    "We will load data from an existing dataset. Alternatively, you can use a Language Model to generate your own data.\n",
    "\n",
    "In this notebook, we will use prompts and existing responses from the UltraFeedback dataset. UltraFeedback already contains preference pairs, against which we can compare our CLAIR preferences."
   ]
  },
  {
   "cell_type": "code",
   "execution_count": 4,
   "metadata": {},
   "outputs": [],
   "source": [
    "ultraf = datasets.load_dataset('openbmb/UltraFeedback')['train'].to_pandas()\n",
    "ultraf = ultraf[:20] # take first 20 examples\n",
    "ultraf = get_preferences_from_ultrafeedback(ultraf)"
   ]
  },
  {
   "cell_type": "code",
   "execution_count": 5,
   "metadata": {},
   "outputs": [
    {
     "name": "stdout",
     "output_type": "stream",
     "text": [
      "---TEXT (first 400 characters):\n",
      "\n",
      "Identify the interrelated economic, political, and social factors that contributed to the stock market crash of 1929, including but not limited to the impact of World War I on the global economy, the role of government policies such as the Smoot-Hawley Tariff Act, the effects of speculative investment practices and margin trading, and the socioeconomic disparities of the time period. Additionally,\n",
      "---REJECTED (first 400 characters):\n",
      "\n",
      "Sure, I'd be happy to help you learn about the causes and effects of the 1929 stock market crash and how it compares to other financial crises.\n",
      "\n",
      "The stock market crash of 1929 was a significant event that occurred on October 29, known as Black Tuesday. This event marked the beginning of the Great Depression, a period of economic downturn and unemployment that lasted for nearly a decade. There were\n",
      "---CHOSEN (first 400 characters):\n",
      "\n",
      "The stock market crash of 1929 was a result of a complex interplay of economic, political, and social factors. The impact of World War I on the global economy, government policies such as the Smoot-Hawley Tariff Act, speculative investment practices, and socioeconomic disparities all contributed to the crisis.\n",
      "The aftermath of World War I left many European countries in a state of economic ruin. T\n"
     ]
    }
   ],
   "source": [
    "# look at an example\n",
    "visualize_triple(ultraf.loc[2])"
   ]
  },
  {
   "cell_type": "markdown",
   "metadata": {},
   "source": [
    "## Revise and Improve\n",
    "We will contrastively revise and improve answers using an LLM over API. We'll start from the `rejected` answers in UltraFeedback."
   ]
  },
  {
   "cell_type": "code",
   "execution_count": 6,
   "metadata": {},
   "outputs": [
    {
     "name": "stdout",
     "output_type": "stream",
     "text": [
      "You are a teacher and your task is to minimally improve a student's answer. I will give you a {{task}} and a {{student_solution}}. Your job is to revise the {{student_solution}} such that it is clearer, more correct, and more engaging. Copy all non-corrected parts of the student's answer. Do not allude to the {{corrected_student_solution}} being a revision or a correction in your final solution.\n",
      "\n",
      "{{task}}: {input}\n",
      "\n",
      "{{student_solution}}: {output}\n",
      "\n",
      "-----------------\n",
      "\n",
      "Let's first think step by step with a {{teacher_reasoning}} to decide how to improve the {{student_solution}}, then give the {{corrected_student_solution}}. Mention the {{teacher_reasoning}} and {{corrected_student_solution}} identifiers to structure your answer.\n",
      "\n",
      "\n"
     ]
    }
   ],
   "source": [
    "revision_template = \"\"\"You are a teacher and your task is to minimally improve a student's answer. I will give you a {{task}} and a {{student_solution}}. Your job is to revise the {{student_solution}} such that it is clearer, more correct, and more engaging. Copy all non-corrected parts of the student's answer. Do not allude to the {{corrected_student_solution}} being a revision or a correction in your final solution.\\n\\n{{task}}: {input}\\n\\n{{student_solution}}: {output}\\n\\n-----------------\\n\\nLet's first think step by step with a {{teacher_reasoning}} to decide how to improve the {{student_solution}}, then give the {{corrected_student_solution}}. Mention the {{teacher_reasoning}} and {{corrected_student_solution}} identifiers to structure your answer.\\n\\n\"\"\"\n",
    "\n",
    "# let's look at the revision prompt\n",
    "print(revision_template)"
   ]
  },
  {
   "cell_type": "code",
   "execution_count": 7,
   "metadata": {},
   "outputs": [
    {
     "name": "stdout",
     "output_type": "stream",
     "text": [
      "You are a teacher and your task is to minimally improve a student's answer. I will give you a {task} and a {student_solution}. Your job is to revise the {student_solution} such that it is clearer, more correct, and more engaging. Copy all non-corrected parts of the student's answer. Do not allude to the {corrected_student_solution} being a revision or a correction in your final solution.\n",
      "\n",
      "{task}: Identify the interrelated economic, political, and social factors that contributed to the stock market crash of 1929, including but not limited to the impact of World War I on the global economy, the role of government policies such as the Smoot-Hawley Tariff Act, the effects of speculative investment practices and margin trading, and the socioeconomic disparities of the time period. Additionally, provide a comparative analysis of the causes and effects of the 1929 stock market crash with other notable financial crises in history, such as the Great Depression of the 1930s and the 2008 global financial crisis. Use primary and secondary sources to support your analysis and provide data visualizations, such as graphs and charts, to illustrate your findings.\n",
      "\n",
      "{student_solution}: Sure, I'd be happy to help you learn about the causes and effects of the 1929 stock market crash and how it compares to other financial crises.\n",
      "\n",
      "The stock market crash of 1929 was a significant event that occurred on October 29, known as Black Tuesday. This event marked the beginning of the Great Depression, a period of economic downturn and unemployment that lasted for nearly a decade. There were several interrelated economic, political, and social factors that contributed to the 1929 stock market crash.\n",
      "\n",
      "Firstly, the impact of World War I on the global economy played a significant role. After the war, many European countries were left with large debts and were unable to invest in their economies. This led to a decrease in demand for American products and a decrease in international trade.\n",
      "\n",
      "In terms of government policies, the Smoot-Hawley Tariff Act of 1930 is often cited as a contributing factor to the crash. This act increased tariffs on foreign goods, which ultimately reduced international trade and led to retaliatory tariffs from other countries. This trade policy had negative effects on U.S. exporters and contributed to the economic downturn.\n",
      "\n",
      "Secondly, speculative investment practices and margin trading were also contributing factors. Margin trading allowed investors to borrow money to purchase stocks, which led to an artificial increase in demand for stocks. This, in turn, created a speculative bubble that eventually burst, leading to a significant decline in stock prices.\n",
      "\n",
      "Additionally, socioeconomic disparities of the time period also played a role in the crash. The 1920s was a period of significant wealth inequality, where the wealthy few were benefiting from the boom while the rest of the population struggled.\n",
      "\n",
      "A comparative analysis of the causes and effects of the 1929 stock market crash with other notable financial crises in history, such as the Great Depression of the 1930s and the 2008 global financial crisis, shows several similarities. In both cases, there were interrelated economic factors, such as the role of government policies and market speculation, that contributed to the severity of the financial crisis.\n",
      "\n",
      "The 1929 stock market crash and the subsequent Great Depression also had significant social impacts, including high unemployment rates and a loss of public confidence in the economy. Similarly, the 2008 global financial crisis resulted in a significant loss of wealth and the failure of several large financial institutions.\n",
      "\n",
      "In conclusion, multiple economic, political, and social factors contributed to the stock market crash of 1929, which ultimately led to the Great Depression. This event serves as a stark example of the negative consequences of interrelated economic factors, government policies, and market speculation. By understanding the causes and effects of the 1929 stock market crash, we can better prepare for and prevent similar financial crises in the future.\n",
      "\n",
      "-----------------\n",
      "\n",
      "Let's first think step by step with a {teacher_reasoning} to decide how to improve the {student_solution}, then give the {corrected_student_solution}. Mention the {teacher_reasoning} and {corrected_student_solution} identifiers to structure your answer.\n",
      "\n",
      "\n"
     ]
    }
   ],
   "source": [
    "# create the prompts using data from ultrafeedback\n",
    "prompts = []\n",
    "prompts_text = []\n",
    "prompts_rejected = []\n",
    "\n",
    "for _, triple in ultraf.iterrows():\n",
    "    prompts.append(revision_template.format(input=triple['text'], output=triple['rejected']))\n",
    "    prompts_text.append(triple['text'])\n",
    "    prompts_rejected.append(triple['rejected'])\n",
    "\n",
    "# visualize prompt\n",
    "print(prompts[2])\n",
    "        "
   ]
  },
  {
   "cell_type": "code",
   "execution_count": 8,
   "metadata": {},
   "outputs": [],
   "source": [
    "# query the API and parse the responses\n",
    "# For the first 20 examples, this code will rely on cached revisions\n",
    "preferences = []\n",
    "for prompt, prompt_text, prompt_rejected in zip(prompts, prompts_text, prompts_rejected):\n",
    "    try:\n",
    "        response = query_chat_model(prompt, model_name=model_name, url=model_url)\n",
    "        revision, revision_rational = get_revision_from_response(response)\n",
    "\n",
    "        preferences.append({\n",
    "            'text': prompt_text,\n",
    "            'rejected': prompt_rejected,\n",
    "            'chosen': revision,\n",
    "            'rational': revision_rational,\n",
    "        })\n",
    "    except Exception as e:\n",
    "        # don't block on exception\n",
    "        print(e)\n",
    "\n",
    "# Turn this into a dataset\n",
    "ultraf_revisions = pd.DataFrame.from_records(preferences)"
   ]
  },
  {
   "cell_type": "code",
   "execution_count": 9,
   "metadata": {},
   "outputs": [
    {
     "name": "stdout",
     "output_type": "stream",
     "text": [
      "---TEXT (first 400 characters):\n",
      "\n",
      "Identify the interrelated economic, political, and social factors that contributed to the stock market crash of 1929, including but not limited to the impact of World War I on the global economy, the role of government policies such as the Smoot-Hawley Tariff Act, the effects of speculative investment practices and margin trading, and the socioeconomic disparities of the time period. Additionally,\n",
      "---REJECTED (first 400 characters):\n",
      "\n",
      "Sure, I'd be happy to help you learn about the causes and effects of the 1929 stock market crash and how it compares to other financial crises.\n",
      "\n",
      "The stock market crash of 1929 was a significant event that occurred on October 29, known as Black Tuesday. This event marked the beginning of the Great Depression, a period of economic downturn and unemployment that lasted for nearly a decade. There were\n",
      "---CHOSEN (first 400 characters):\n",
      "\n",
      "The stock market crash of 1929, culminating on October 29, known as \"Black Tuesday,\" was a pivotal event marking the onset of the Great Depression. This period of economic distress, characterized by widespread unemployment and hardship, was influenced by a complex interplay of economic, political, and social factors.\n",
      "\n",
      "**Economic Factors:** The aftermath of World War I significantly strained the gl\n",
      "---REVISION RATIONAL (first 400 characters):\n",
      "\n",
      "The student's answer provides a decent overview of the stock market crash of 1929, linking it to economic, political, and social factors. However, there are several areas where improvements could make the answer clearer, more correct, and more engaging:\n",
      "\n",
      "1. **Accuracy and Detail:** The student mentions the Smoot-Hawley Tariff Act as a contributing factor to the crash but inaccurately dates it to 1\n"
     ]
    }
   ],
   "source": [
    "# Visualize an edit\n",
    "visualize_triple(ultraf_revisions.loc[2])"
   ]
  },
  {
   "cell_type": "code",
   "execution_count": 10,
   "metadata": {},
   "outputs": [
    {
     "data": {
      "text/html": [
       "<div>\n",
       "<style scoped>\n",
       "    .dataframe tbody tr th:only-of-type {\n",
       "        vertical-align: middle;\n",
       "    }\n",
       "\n",
       "    .dataframe tbody tr th {\n",
       "        vertical-align: top;\n",
       "    }\n",
       "\n",
       "    .dataframe thead th {\n",
       "        text-align: right;\n",
       "    }\n",
       "</style>\n",
       "<table border=\"1\" class=\"dataframe\">\n",
       "  <thead>\n",
       "    <tr style=\"text-align: right;\">\n",
       "      <th></th>\n",
       "      <th>text</th>\n",
       "      <th>rejected</th>\n",
       "      <th>chosen</th>\n",
       "      <th>rational</th>\n",
       "    </tr>\n",
       "  </thead>\n",
       "  <tbody>\n",
       "    <tr>\n",
       "      <th>0</th>\n",
       "      <td>Can you write a C++ program that prompts the u...</td>\n",
       "      <td>Sure, here is the program using the C++11 algo...</td>\n",
       "      <td>```cpp\\n#include &lt;iostream&gt;\\n#include &lt;string&gt;...</td>\n",
       "      <td>The student's solution seems to misunderstand ...</td>\n",
       "    </tr>\n",
       "    <tr>\n",
       "      <th>1</th>\n",
       "      <td>Suppose you are a content creator and want to ...</td>\n",
       "      <td>To use GPT for generating compelling titles an...</td>\n",
       "      <td>To use GPT for automatically generating compel...</td>\n",
       "      <td>The student's solution provides a comprehensiv...</td>\n",
       "    </tr>\n",
       "    <tr>\n",
       "      <th>2</th>\n",
       "      <td>Identify the interrelated economic, political,...</td>\n",
       "      <td>Sure, I'd be happy to help you learn about the...</td>\n",
       "      <td>The stock market crash of 1929, culminating on...</td>\n",
       "      <td>The student's answer provides a decent overvie...</td>\n",
       "    </tr>\n",
       "    <tr>\n",
       "      <th>3</th>\n",
       "      <td>How can I convert the decimal number 31 to bin...</td>\n",
       "      <td>Sure, I'd be happy to help with that! \\n\\nIn J...</td>\n",
       "      <td>Sure, I'd be happy to help with that!\\n\\nIn Ja...</td>\n",
       "      <td>The student's solution contains a couple of in...</td>\n",
       "    </tr>\n",
       "    <tr>\n",
       "      <th>4</th>\n",
       "      <td>Can you modify the C++ code provided below to ...</td>\n",
       "      <td>Sure, I can help you with that. Here's how you...</td>\n",
       "      <td>To generate the first 20 Fibonacci numbers in ...</td>\n",
       "      <td>The student's solution provides a basic outlin...</td>\n",
       "    </tr>\n",
       "  </tbody>\n",
       "</table>\n",
       "</div>"
      ],
      "text/plain": [
       "                                                text  \\\n",
       "0  Can you write a C++ program that prompts the u...   \n",
       "1  Suppose you are a content creator and want to ...   \n",
       "2  Identify the interrelated economic, political,...   \n",
       "3  How can I convert the decimal number 31 to bin...   \n",
       "4  Can you modify the C++ code provided below to ...   \n",
       "\n",
       "                                            rejected  \\\n",
       "0  Sure, here is the program using the C++11 algo...   \n",
       "1  To use GPT for generating compelling titles an...   \n",
       "2  Sure, I'd be happy to help you learn about the...   \n",
       "3  Sure, I'd be happy to help with that! \\n\\nIn J...   \n",
       "4  Sure, I can help you with that. Here's how you...   \n",
       "\n",
       "                                              chosen  \\\n",
       "0  ```cpp\\n#include <iostream>\\n#include <string>...   \n",
       "1  To use GPT for automatically generating compel...   \n",
       "2  The stock market crash of 1929, culminating on...   \n",
       "3  Sure, I'd be happy to help with that!\\n\\nIn Ja...   \n",
       "4  To generate the first 20 Fibonacci numbers in ...   \n",
       "\n",
       "                                            rational  \n",
       "0  The student's solution seems to misunderstand ...  \n",
       "1  The student's solution provides a comprehensiv...  \n",
       "2  The student's answer provides a decent overvie...  \n",
       "3  The student's solution contains a couple of in...  \n",
       "4  The student's solution provides a basic outlin...  "
      ]
     },
     "execution_count": 10,
     "metadata": {},
     "output_type": "execute_result"
    }
   ],
   "source": [
    "ultraf_revisions.head()"
   ]
  },
  {
   "cell_type": "markdown",
   "metadata": {},
   "source": [
    "## You've now created CLAIR preferences!\n",
    "<!-- We've already created a dataset of 32K revisions. Let's load this and compare CLAIR revisions with conventional RLAIF preferences. -->"
   ]
  },
  {
   "cell_type": "code",
   "execution_count": null,
   "metadata": {},
   "outputs": [],
   "source": []
  }
 ],
 "metadata": {
  "kernelspec": {
   "display_name": "Python 3",
   "language": "python",
   "name": "python3"
  },
  "language_info": {
   "codemirror_mode": {
    "name": "ipython",
    "version": 3
   },
   "file_extension": ".py",
   "mimetype": "text/x-python",
   "name": "python",
   "nbconvert_exporter": "python",
   "pygments_lexer": "ipython3",
   "version": "3.10.13"
  }
 },
 "nbformat": 4,
 "nbformat_minor": 2
}
